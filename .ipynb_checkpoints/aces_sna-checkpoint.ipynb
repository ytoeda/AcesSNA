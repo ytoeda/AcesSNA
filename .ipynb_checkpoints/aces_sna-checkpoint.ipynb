{
 "cells": [
  {
   "cell_type": "code",
   "execution_count": 18,
   "metadata": {
    "collapsed": true
   },
   "outputs": [],
   "source": [
    "import random\n",
    "import numpy as np\n",
    "from pandas import DataFrame\n",
    "from py2neo import Node,Relationship,Graph"
   ]
  },
  {
   "cell_type": "code",
   "execution_count": 2,
   "metadata": {
    "collapsed": true
   },
   "outputs": [],
   "source": [
    "# Fetching, Cleaning, and Storing User Names in a List\n",
    "fh1 = open(\"Data/Names.txt\", \"r\")\n",
    "nameslist = []\n",
    "for line in fh1:\n",
    "    cleanline = line.strip()\n",
    "    nameslist.append(cleanline)\n",
    "    \n",
    "#Getting the AgeList for each User\n",
    "agelist = []\n",
    "for i in range(0,250):\n",
    "    agelist.append(random.randint(15,20))\n",
    "for i in range(0,500):\n",
    "    agelist.append(random.randint(21,30))\n",
    "for i in range(0,200):\n",
    "    agelist.append(random.randint(31,40))\n",
    "for i in range(0,50):\n",
    "    agelist.append(random.randint(41,50))\n",
    "random.shuffle(agelist)\n",
    "\n",
    "# Fetching the Gender of every User\n",
    "genderlist = []\n",
    "for i in range(0, 1000):\n",
    "    if random.randint(1,2) == 1:\n",
    "        genderlist.append('M')\n",
    "    else:\n",
    "        genderlist.append('F')\n",
    "        \n",
    "# Getting the Nationality of every User\n",
    "country = [\"US\", \"JAPAN\", \"FRANCE\", \"PORTUGAL\", \"CHILE\", \"TAIWAN\", \"SOUTH KOREA\", \"ITALY\", \"UAE\",\n",
    "               \"COSTA RICA\", \"SLOVENIA\", \"BELGIUM\", \"SPAIN\", \"SINGAPORE\", \"UK\", \"GERMANY\", \"AUSTRIA\", \"CANADA\",\n",
    "               \"IRELAND\", \"FINLAND\", \"NETHERLANDS\", \"NEW ZEALAND\", \"QATAR\", \"SWITZERLAND\", \"LUXEMBOURG\",\n",
    "               \"ICELAND\", \"AUSTRALIA\", \"NORWAY\", \"SWEDEN\", \"DENMARK\"]\n",
    "countrylist = []\n",
    "for i in range(0, 1000):\n",
    "    countrylist.append(country[random.randint(0,29)])"
   ]
  },
  {
   "cell_type": "code",
   "execution_count": 3,
   "metadata": {
    "collapsed": true
   },
   "outputs": [],
   "source": [
    "frame1 = DataFrame({\"Name\": nameslist, \n",
    "                   \"Age\": agelist,\n",
    "                    \"Gender\": genderlist,\n",
    "                    \"Country\": countrylist})"
   ]
  },
  {
   "cell_type": "code",
   "execution_count": 4,
   "metadata": {
    "collapsed": false
   },
   "outputs": [],
   "source": [
    "frame1['Id'] = np.arange(1000)"
   ]
  },
  {
   "cell_type": "code",
   "execution_count": 5,
   "metadata": {
    "collapsed": false
   },
   "outputs": [],
   "source": [
    "frame2 = frame1.reindex(columns = [\"Id\", \"Name\", \"Age\", \"Gender\", \"Country\"])"
   ]
  },
  {
   "cell_type": "code",
   "execution_count": 6,
   "metadata": {
    "collapsed": true
   },
   "outputs": [],
   "source": [
    "count = 0\n",
    "connectivitylist = []\n",
    "for i in range(0, 1000):\n",
    "    count = 0\n",
    "    if 15 <= agelist[i] <= 20:\n",
    "        while count < 15:\n",
    "            id = random.randint(0, 999)\n",
    "            if id == i:\n",
    "                continue\n",
    "            else:\n",
    "                connectivitylist.append([i, id])\n",
    "                count += 1\n",
    "\n",
    "    elif 21 <= agelist[i] <= 30:\n",
    "        while count < 25:\n",
    "            id = random.randint(0, 999)\n",
    "            if id == i:\n",
    "                continue\n",
    "            else:\n",
    "                connectivitylist.append([i, id])\n",
    "                count += 1\n",
    "\n",
    "    elif 31 <= agelist[i] <= 40:\n",
    "        while count < 10:\n",
    "            id = random.randint(0, 999)\n",
    "            if id == i:\n",
    "                continue\n",
    "            else:\n",
    "                connectivitylist.append([i, id])\n",
    "                count += 1\n",
    "\n",
    "    else:\n",
    "        while count < 5:\n",
    "            id = random.randint(0, 999)\n",
    "            if id == i:\n",
    "                continue\n",
    "            else:\n",
    "                connectivitylist.append([i, id])\n",
    "                count += 1"
   ]
  },
  {
   "cell_type": "code",
   "execution_count": 22,
   "metadata": {
    "collapsed": false
   },
   "outputs": [],
   "source": [
    "graph = Graph(\"http://localhost:7474/db/data/\")\n",
    "graph.delete_all()\n",
    "graph_nodes = []\n",
    "\n",
    "for i in range(1000):\n",
    "    node = Node(\"Person\", name=frame2.ix[i][1], age = str(frame2.ix[i][2]), \n",
    "                      gender= frame2.ix[i][3], country= frame2.ix[i][4])\n",
    "    graph_nodes.append(node)\n",
    "    graph.create(node)"
   ]
  },
  {
   "cell_type": "code",
   "execution_count": 24,
   "metadata": {
    "collapsed": false
   },
   "outputs": [],
   "source": [
    "relationship_list = []\n",
    "for i in connectivitylist:\n",
    "    relationship = Relationship(graph_nodes[i[0]], \"KNOWS\", graph_nodes[i[1]])\n",
    "    relationship_list.append(relationship)\n",
    "    graph.create(relationship)"
   ]
  }
 ],
 "metadata": {
  "kernelspec": {
   "display_name": "Python 2",
   "language": "python",
   "name": "python2"
  },
  "language_info": {
   "codemirror_mode": {
    "name": "ipython",
    "version": 2
   },
   "file_extension": ".py",
   "mimetype": "text/x-python",
   "name": "python",
   "nbconvert_exporter": "python",
   "pygments_lexer": "ipython2",
   "version": "2.7.10"
  }
 },
 "nbformat": 4,
 "nbformat_minor": 0
}
