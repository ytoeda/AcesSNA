{
 "cells": [
  {
   "cell_type": "code",
   "execution_count": null,
   "metadata": {
    "collapsed": true
   },
   "outputs": [],
   "source": [
    "import random\n",
    "import numpy as np\n",
    "from pandas import DataFrame"
   ]
  },
  {
   "cell_type": "code",
   "execution_count": null,
   "metadata": {
    "collapsed": true
   },
   "outputs": [],
   "source": [
    "# Fetching, Cleaning, and Storing User Names in a List\n",
    "fh1 = open(\"Data/Names.txt\", \"r\")\n",
    "nameslist = []\n",
    "for line in fh1:\n",
    "    cleanline = line.strip()\n",
    "    nameslist.append(cleanline)\n",
    "    \n",
    "#Getting the AgeList for each User\n",
    "agelist = []\n",
    "for i in range(0,250):\n",
    "    agelist.append(random.randint(15,20))\n",
    "for i in range(0,500):\n",
    "    agelist.append(random.randint(21,30))\n",
    "for i in range(0,200):\n",
    "    agelist.append(random.randint(31,40))\n",
    "for i in range(0,50):\n",
    "    agelist.append(random.randint(41,50))\n",
    "random.shuffle(agelist)\n",
    "\n",
    "#Fetching the Gender of every User\n",
    "genderlist = []\n",
    "for i in range(0, 1000):\n",
    "    if random.randint(1,2) == 1:\n",
    "        genderlist.append('M')\n",
    "    else:\n",
    "        genderlist.append('F')\n",
    "        \n",
    "#Getting the Nationality of every User\n",
    "country = [\"US\", \"JAPAN\", \"FRANCE\", \"PORTUGAL\", \"CHILE\", \"TAIWAN\", \"SOUTH KOREA\", \"ITALY\", \"UAE\",\n",
    "               \"COSTA RICA\", \"SLOVENIA\", \"BELGIUM\", \"SPAIN\", \"SINGAPORE\", \"UK\", \"GERMANY\", \"AUSTRIA\", \"CANADA\",\n",
    "               \"IRELAND\", \"FINLAND\", \"NETHERLANDS\", \"NEW ZEALAND\", \"QATAR\", \"SWITZERLAND\", \"LUXEMBOURG\",\n",
    "               \"ICELAND\", \"AUSTRALIA\", \"NORWAY\", \"SWEDEN\", \"DENMARK\"]\n",
    "countrylist = []\n",
    "for i in range(0, 1000):\n",
    "    countrylist.append(country[random.randint(0,29)])"
   ]
  },
  {
   "cell_type": "code",
   "execution_count": null,
   "metadata": {
    "collapsed": true
   },
   "outputs": [],
   "source": [
    "frame1 = DataFrame({\"Name\": nameslist, \n",
    "                   \"Age\": agelist,\n",
    "                    \"Gender\": genderlist,\n",
    "                    \"Country\": countrylist})"
   ]
  },
  {
   "cell_type": "code",
   "execution_count": null,
   "metadata": {
    "collapsed": false
   },
   "outputs": [],
   "source": [
    "frame2 = frame1.reindex(columns = [\"Name\", \"Age\", \"Gender\", \"Country\"])"
   ]
  }
 ],
 "metadata": {
  "kernelspec": {
   "display_name": "Python 3",
   "language": "python",
   "name": "python3"
  },
  "language_info": {
   "codemirror_mode": {
    "name": "ipython",
    "version": 3
   },
   "file_extension": ".py",
   "mimetype": "text/x-python",
   "name": "python",
   "nbconvert_exporter": "python",
   "pygments_lexer": "ipython3",
   "version": "3.5.1"
  }
 },
 "nbformat": 4,
 "nbformat_minor": 0
}
