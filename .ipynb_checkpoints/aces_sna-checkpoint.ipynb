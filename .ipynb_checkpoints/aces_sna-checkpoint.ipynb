{
 "cells": [
  {
   "cell_type": "code",
   "execution_count": null,
   "metadata": {
    "collapsed": true
   },
   "outputs": [],
   "source": [
    "import random"
   ]
  },
  {
   "cell_type": "code",
   "execution_count": null,
   "metadata": {
    "collapsed": true
   },
   "outputs": [],
   "source": [
    "# Fetching, Cleaning, and Storing User Names in a List\n",
    "fh1 = open(\"Data/Names.txt\", \"r\")\n",
    "nameslist = []\n",
    "for line in fh1:\n",
    "    cleanline = line.strip()\n",
    "    nameslist.append(cleanline)"
   ]
  },
  {
   "cell_type": "code",
   "execution_count": null,
   "metadata": {
    "collapsed": false
   },
   "outputs": [],
   "source": [
    "#Getting the AgeList for each User\n",
    "agelist = []\n",
    "for i in range(0,250):\n",
    "    agelist.append(random.randint(15,20))\n",
    "for i in range(0,500):\n",
    "    agelist.append(random.randint(21,30))\n",
    "for i in range(0,200):\n",
    "    agelist.append(random.randint(31,40))\n",
    "for i in range(0,50):\n",
    "    agelist.append(random.randint(41,50))\n",
    "random.shuffle(agelist)"
   ]
  },
  {
   "cell_type": "code",
   "execution_count": null,
   "metadata": {
    "collapsed": true
   },
   "outputs": [],
   "source": [
    "#Fetching the Gender of every User\n",
    "genderlist = []\n",
    "for i in range(0, 1000):\n",
    "    if random.randint(1,2) == 1:\n",
    "        genderlist.append('M')\n",
    "    else:\n",
    "        genderlist.append('F')"
   ]
  },
  {
   "cell_type": "code",
   "execution_count": null,
   "metadata": {
    "collapsed": true
   },
   "outputs": [],
   "source": [
    "#Getting the Nationality of every User\n",
    "country = [\"US\", \"JAPAN\", \"FRANCE\", \"PORTUGAL\", \"CHILE\", \"TAIWAN\", \"SOUTH KOREA\", \"ITALY\", \"UAE\",\n",
    "               \"COSTA RICA\", \"SLOVENIA\", \"BELGIUM\", \"SPAIN\", \"SINGAPORE\", \"UK\", \"GERMANY\", \"AUSTRIA\", \"CANADA\",\n",
    "               \"IRELAND\", \"FINLAND\", \"NETHERLANDS\", \"NEW ZEALAND\", \"QATAR\", \"SWITZERLAND\", \"LUXEMBOURG\",\n",
    "               \"ICELAND\", \"AUSTRALIA\", \"NORWAY\", \"SWEDEN\", \"DENMARK\"]\n",
    "countrylist = []\n",
    "for i in range(0, 1000):\n",
    "    countrylist.append(country[random.randint(0,29)])"
   ]
  }
 ],
 "metadata": {
  "kernelspec": {
   "display_name": "Python 2",
   "language": "python",
   "name": "python2"
  },
  "language_info": {
   "codemirror_mode": {
    "name": "ipython",
    "version": 2
   },
   "file_extension": ".py",
   "mimetype": "text/x-python",
   "name": "python",
   "nbconvert_exporter": "python",
   "pygments_lexer": "ipython2",
   "version": "2.7.10"
  }
 },
 "nbformat": 4,
 "nbformat_minor": 0
}
